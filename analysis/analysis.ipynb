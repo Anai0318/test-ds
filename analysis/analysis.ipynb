{
 "cells": [
  {
   "cell_type": "markdown",
   "metadata": {},
   "source": [
    "# 前処理"
   ]
  },
  {
   "cell_type": "code",
   "execution_count": 121,
   "metadata": {},
   "outputs": [],
   "source": [
    "import pandas as pd\n",
    "import numpy as np\n",
    "import matplotlib.pyplot as plt\n",
    "import japanize_matplotlib\n"
   ]
  },
  {
   "cell_type": "code",
   "execution_count": 122,
   "metadata": {},
   "outputs": [
    {
     "name": "stderr",
     "output_type": "stream",
     "text": [
      "/var/folders/7s/_btxhv2n665301n2c0k894mm0000gn/T/ipykernel_63224/522093880.py:23: UserWarning: pandas only supports SQLAlchemy connectable (engine/connection) or database string URI or sqlite3 DBAPI2 connection. Other DBAPI2 objects are not tested. Please consider using SQLAlchemy.\n",
      "  df_america = pd.read_sql_query(query, conn)\n"
     ]
    }
   ],
   "source": [
    "import psycopg2\n",
    "\n",
    "# データベース設定\n",
    "dbname = \"ds_pro_final\" \n",
    "user = \"anaiyoshikazu\" \n",
    "password = \"test\" \n",
    "host = \"localhost\"  \n",
    "port = \"5432\"  \n",
    "\n",
    "# データベースに接続\n",
    "try:\n",
    "    conn = psycopg2.connect(\n",
    "        dbname='ds_pro_final', \n",
    "        user='anaiyoshikazu', \n",
    "        password='yoshi318', \n",
    "        host='localhost',\n",
    "        port='5432'\n",
    "    )\n",
    "except psycopg2.Error as e:\n",
    "    print(\"データベース接続中にエラーが発生しました:\", e)\n",
    "\n",
    "query = \"SELECT * FROM scrape_scrape;\"\n",
    "df_america = pd.read_sql_query(query, conn)\n",
    "\n",
    "\n",
    "conn.close()\n"
   ]
  },
  {
   "cell_type": "code",
   "execution_count": 123,
   "metadata": {},
   "outputs": [
    {
     "data": {
      "text/html": [
       "<div>\n",
       "<style scoped>\n",
       "    .dataframe tbody tr th:only-of-type {\n",
       "        vertical-align: middle;\n",
       "    }\n",
       "\n",
       "    .dataframe tbody tr th {\n",
       "        vertical-align: top;\n",
       "    }\n",
       "\n",
       "    .dataframe thead th {\n",
       "        text-align: right;\n",
       "    }\n",
       "</style>\n",
       "<table border=\"1\" class=\"dataframe\">\n",
       "  <thead>\n",
       "    <tr style=\"text-align: right;\">\n",
       "      <th></th>\n",
       "      <th>id</th>\n",
       "      <th>offender_age_number_0_9</th>\n",
       "      <th>offender_age_number_10_19</th>\n",
       "      <th>offender_age_number_20_29</th>\n",
       "      <th>offender_age_number_30_39</th>\n",
       "      <th>offender_age_number_40_49</th>\n",
       "      <th>offender_age_number_50_59</th>\n",
       "      <th>offender_age_number_60_69</th>\n",
       "      <th>offender_age_number_70_79</th>\n",
       "      <th>offender_age_number_80_89</th>\n",
       "      <th>...</th>\n",
       "      <th>victim_age_number_30_39</th>\n",
       "      <th>victim_age_number_40_49</th>\n",
       "      <th>victim_age_number_50_59</th>\n",
       "      <th>victim_sum_total</th>\n",
       "      <th>personal_weapons</th>\n",
       "      <th>handgun</th>\n",
       "      <th>knife_cutting_instrument</th>\n",
       "      <th>firearm</th>\n",
       "      <th>none</th>\n",
       "      <th>type_of_weapons_sum_total</th>\n",
       "    </tr>\n",
       "  </thead>\n",
       "  <tbody>\n",
       "    <tr>\n",
       "      <th>0</th>\n",
       "      <td>4</td>\n",
       "      <td>2110</td>\n",
       "      <td>134576</td>\n",
       "      <td>232451</td>\n",
       "      <td>194835</td>\n",
       "      <td>101386</td>\n",
       "      <td>60138</td>\n",
       "      <td>21569</td>\n",
       "      <td>4883</td>\n",
       "      <td>1095</td>\n",
       "      <td>...</td>\n",
       "      <td>218823</td>\n",
       "      <td>137865</td>\n",
       "      <td>89636</td>\n",
       "      <td>969504</td>\n",
       "      <td>214085</td>\n",
       "      <td>155418</td>\n",
       "      <td>101444</td>\n",
       "      <td>76460</td>\n",
       "      <td>66817</td>\n",
       "      <td>815580</td>\n",
       "    </tr>\n",
       "  </tbody>\n",
       "</table>\n",
       "<p>1 rows × 25 columns</p>\n",
       "</div>"
      ],
      "text/plain": [
       "   id  offender_age_number_0_9  offender_age_number_10_19  \\\n",
       "0   4                     2110                     134576   \n",
       "\n",
       "   offender_age_number_20_29  offender_age_number_30_39  \\\n",
       "0                     232451                     194835   \n",
       "\n",
       "   offender_age_number_40_49  offender_age_number_50_59  \\\n",
       "0                     101386                      60138   \n",
       "\n",
       "   offender_age_number_60_69  offender_age_number_70_79  \\\n",
       "0                      21569                       4883   \n",
       "\n",
       "   offender_age_number_80_89  ...  victim_age_number_30_39  \\\n",
       "0                       1095  ...                   218823   \n",
       "\n",
       "   victim_age_number_40_49  victim_age_number_50_59  victim_sum_total  \\\n",
       "0                   137865                    89636            969504   \n",
       "\n",
       "   personal_weapons  handgun  knife_cutting_instrument  firearm   none  \\\n",
       "0            214085   155418                    101444    76460  66817   \n",
       "\n",
       "   type_of_weapons_sum_total  \n",
       "0                     815580  \n",
       "\n",
       "[1 rows x 25 columns]"
      ]
     },
     "execution_count": 123,
     "metadata": {},
     "output_type": "execute_result"
    }
   ],
   "source": [
    "df_america"
   ]
  },
  {
   "cell_type": "code",
   "execution_count": 124,
   "metadata": {},
   "outputs": [
    {
     "data": {
      "text/html": [
       "<div>\n",
       "<style scoped>\n",
       "    .dataframe tbody tr th:only-of-type {\n",
       "        vertical-align: middle;\n",
       "    }\n",
       "\n",
       "    .dataframe tbody tr th {\n",
       "        vertical-align: top;\n",
       "    }\n",
       "\n",
       "    .dataframe thead th {\n",
       "        text-align: right;\n",
       "    }\n",
       "</style>\n",
       "<table border=\"1\" class=\"dataframe\">\n",
       "  <thead>\n",
       "    <tr style=\"text-align: right;\">\n",
       "      <th></th>\n",
       "      <th>年次</th>\n",
       "      <th>検挙件数（件）</th>\n",
       "      <th>検挙人員（人）</th>\n",
       "      <th>押収物件数（件）</th>\n",
       "    </tr>\n",
       "  </thead>\n",
       "  <tbody>\n",
       "    <tr>\n",
       "      <th>0</th>\n",
       "      <td>2017/12/31</td>\n",
       "      <td>16</td>\n",
       "      <td>13</td>\n",
       "      <td>57</td>\n",
       "    </tr>\n",
       "    <tr>\n",
       "      <th>1</th>\n",
       "      <td>2018/12/31</td>\n",
       "      <td>14</td>\n",
       "      <td>13</td>\n",
       "      <td>34</td>\n",
       "    </tr>\n",
       "    <tr>\n",
       "      <th>2</th>\n",
       "      <td>2019/12/31</td>\n",
       "      <td>13</td>\n",
       "      <td>11</td>\n",
       "      <td>8</td>\n",
       "    </tr>\n",
       "    <tr>\n",
       "      <th>3</th>\n",
       "      <td>2020/12/31</td>\n",
       "      <td>17</td>\n",
       "      <td>16</td>\n",
       "      <td>40</td>\n",
       "    </tr>\n",
       "    <tr>\n",
       "      <th>4</th>\n",
       "      <td>2021/12/31</td>\n",
       "      <td>15</td>\n",
       "      <td>12</td>\n",
       "      <td>16</td>\n",
       "    </tr>\n",
       "  </tbody>\n",
       "</table>\n",
       "</div>"
      ],
      "text/plain": [
       "           年次  検挙件数（件）  検挙人員（人）  押収物件数（件）\n",
       "0  2017/12/31       16       13        57\n",
       "1  2018/12/31       14       13        34\n",
       "2  2019/12/31       13       11         8\n",
       "3  2020/12/31       17       16        40\n",
       "4  2021/12/31       15       12        16"
      ]
     },
     "execution_count": 124,
     "metadata": {},
     "output_type": "execute_result"
    }
   ],
   "source": [
    "df_air = pd.read_csv('/Users/anaiyoshikazu/dsPro/datasets/空気銃.csv')\n",
    "\n",
    "df_air"
   ]
  },
  {
   "cell_type": "code",
   "execution_count": 125,
   "metadata": {},
   "outputs": [
    {
     "data": {
      "text/html": [
       "<div>\n",
       "<style scoped>\n",
       "    .dataframe tbody tr th:only-of-type {\n",
       "        vertical-align: middle;\n",
       "    }\n",
       "\n",
       "    .dataframe tbody tr th {\n",
       "        vertical-align: top;\n",
       "    }\n",
       "\n",
       "    .dataframe thead th {\n",
       "        text-align: right;\n",
       "    }\n",
       "</style>\n",
       "<table border=\"1\" class=\"dataframe\">\n",
       "  <thead>\n",
       "    <tr style=\"text-align: right;\">\n",
       "      <th></th>\n",
       "      <th>年次</th>\n",
       "      <th>検挙件数（空気銃）</th>\n",
       "      <th>検挙人員（空気銃）</th>\n",
       "      <th>押収物件数（件）</th>\n",
       "    </tr>\n",
       "  </thead>\n",
       "  <tbody>\n",
       "    <tr>\n",
       "      <th>0</th>\n",
       "      <td>2017/12/31</td>\n",
       "      <td>16</td>\n",
       "      <td>13</td>\n",
       "      <td>57</td>\n",
       "    </tr>\n",
       "    <tr>\n",
       "      <th>1</th>\n",
       "      <td>2018/12/31</td>\n",
       "      <td>14</td>\n",
       "      <td>13</td>\n",
       "      <td>34</td>\n",
       "    </tr>\n",
       "    <tr>\n",
       "      <th>2</th>\n",
       "      <td>2019/12/31</td>\n",
       "      <td>13</td>\n",
       "      <td>11</td>\n",
       "      <td>8</td>\n",
       "    </tr>\n",
       "    <tr>\n",
       "      <th>3</th>\n",
       "      <td>2020/12/31</td>\n",
       "      <td>17</td>\n",
       "      <td>16</td>\n",
       "      <td>40</td>\n",
       "    </tr>\n",
       "    <tr>\n",
       "      <th>4</th>\n",
       "      <td>2021/12/31</td>\n",
       "      <td>15</td>\n",
       "      <td>12</td>\n",
       "      <td>16</td>\n",
       "    </tr>\n",
       "  </tbody>\n",
       "</table>\n",
       "</div>"
      ],
      "text/plain": [
       "           年次  検挙件数（空気銃）  検挙人員（空気銃）  押収物件数（件）\n",
       "0  2017/12/31         16         13        57\n",
       "1  2018/12/31         14         13        34\n",
       "2  2019/12/31         13         11         8\n",
       "3  2020/12/31         17         16        40\n",
       "4  2021/12/31         15         12        16"
      ]
     },
     "execution_count": 125,
     "metadata": {},
     "output_type": "execute_result"
    }
   ],
   "source": [
    "df_air = df_air.rename(columns={'検挙件数（件）' : '検挙件数（空気銃）', '検挙人員（人）' : '検挙人員（空気銃）'})\n",
    "\n",
    "df_air"
   ]
  },
  {
   "cell_type": "code",
   "execution_count": 126,
   "metadata": {},
   "outputs": [
    {
     "data": {
      "text/html": [
       "<div>\n",
       "<style scoped>\n",
       "    .dataframe tbody tr th:only-of-type {\n",
       "        vertical-align: middle;\n",
       "    }\n",
       "\n",
       "    .dataframe tbody tr th {\n",
       "        vertical-align: top;\n",
       "    }\n",
       "\n",
       "    .dataframe thead th {\n",
       "        text-align: right;\n",
       "    }\n",
       "</style>\n",
       "<table border=\"1\" class=\"dataframe\">\n",
       "  <thead>\n",
       "    <tr style=\"text-align: right;\">\n",
       "      <th></th>\n",
       "      <th>年次</th>\n",
       "      <th>検挙件数（空気銃）</th>\n",
       "      <th>検挙人員（空気銃）</th>\n",
       "    </tr>\n",
       "  </thead>\n",
       "  <tbody>\n",
       "    <tr>\n",
       "      <th>0</th>\n",
       "      <td>2017/12/31</td>\n",
       "      <td>16</td>\n",
       "      <td>13</td>\n",
       "    </tr>\n",
       "    <tr>\n",
       "      <th>1</th>\n",
       "      <td>2018/12/31</td>\n",
       "      <td>14</td>\n",
       "      <td>13</td>\n",
       "    </tr>\n",
       "    <tr>\n",
       "      <th>2</th>\n",
       "      <td>2019/12/31</td>\n",
       "      <td>13</td>\n",
       "      <td>11</td>\n",
       "    </tr>\n",
       "    <tr>\n",
       "      <th>3</th>\n",
       "      <td>2020/12/31</td>\n",
       "      <td>17</td>\n",
       "      <td>16</td>\n",
       "    </tr>\n",
       "    <tr>\n",
       "      <th>4</th>\n",
       "      <td>2021/12/31</td>\n",
       "      <td>15</td>\n",
       "      <td>12</td>\n",
       "    </tr>\n",
       "  </tbody>\n",
       "</table>\n",
       "</div>"
      ],
      "text/plain": [
       "           年次  検挙件数（空気銃）  検挙人員（空気銃）\n",
       "0  2017/12/31         16         13\n",
       "1  2018/12/31         14         13\n",
       "2  2019/12/31         13         11\n",
       "3  2020/12/31         17         16\n",
       "4  2021/12/31         15         12"
      ]
     },
     "execution_count": 126,
     "metadata": {},
     "output_type": "execute_result"
    }
   ],
   "source": [
    "df_air = df_air.drop(columns='押収物件数（件）')\n",
    "\n",
    "df_air"
   ]
  },
  {
   "cell_type": "code",
   "execution_count": 127,
   "metadata": {},
   "outputs": [
    {
     "data": {
      "text/html": [
       "<div>\n",
       "<style scoped>\n",
       "    .dataframe tbody tr th:only-of-type {\n",
       "        vertical-align: middle;\n",
       "    }\n",
       "\n",
       "    .dataframe tbody tr th {\n",
       "        vertical-align: top;\n",
       "    }\n",
       "\n",
       "    .dataframe thead th {\n",
       "        text-align: right;\n",
       "    }\n",
       "</style>\n",
       "<table border=\"1\" class=\"dataframe\">\n",
       "  <thead>\n",
       "    <tr style=\"text-align: right;\">\n",
       "      <th></th>\n",
       "      <th>年次</th>\n",
       "      <th>検挙件数（件）</th>\n",
       "      <th>検挙人員（人）</th>\n",
       "      <th>押収物件数（件）</th>\n",
       "    </tr>\n",
       "  </thead>\n",
       "  <tbody>\n",
       "    <tr>\n",
       "      <th>0</th>\n",
       "      <td>2017/12/31</td>\n",
       "      <td>23</td>\n",
       "      <td>18</td>\n",
       "      <td>14</td>\n",
       "    </tr>\n",
       "    <tr>\n",
       "      <th>1</th>\n",
       "      <td>2018/12/31</td>\n",
       "      <td>22</td>\n",
       "      <td>28</td>\n",
       "      <td>32</td>\n",
       "    </tr>\n",
       "    <tr>\n",
       "      <th>2</th>\n",
       "      <td>2019/12/31</td>\n",
       "      <td>19</td>\n",
       "      <td>20</td>\n",
       "      <td>10</td>\n",
       "    </tr>\n",
       "    <tr>\n",
       "      <th>3</th>\n",
       "      <td>2020/12/31</td>\n",
       "      <td>14</td>\n",
       "      <td>15</td>\n",
       "      <td>12</td>\n",
       "    </tr>\n",
       "    <tr>\n",
       "      <th>4</th>\n",
       "      <td>2021/12/31</td>\n",
       "      <td>16</td>\n",
       "      <td>16</td>\n",
       "      <td>12</td>\n",
       "    </tr>\n",
       "  </tbody>\n",
       "</table>\n",
       "</div>"
      ],
      "text/plain": [
       "           年次  検挙件数（件）  検挙人員（人）  押収物件数（件）\n",
       "0  2017/12/31       23       18        14\n",
       "1  2018/12/31       22       28        32\n",
       "2  2019/12/31       19       20        10\n",
       "3  2020/12/31       14       15        12\n",
       "4  2021/12/31       16       16        12"
      ]
     },
     "execution_count": 127,
     "metadata": {},
     "output_type": "execute_result"
    }
   ],
   "source": [
    "df_animal = pd.read_csv('/Users/anaiyoshikazu/dsPro/datasets/猟銃.csv')\n",
    "\n",
    "df_animal"
   ]
  },
  {
   "cell_type": "code",
   "execution_count": 128,
   "metadata": {},
   "outputs": [],
   "source": [
    "df_animal = df_animal.rename(columns={'検挙件数（件）' : '検挙件数（猟銃）', '検挙人員（人）' : '検挙人員（猟銃）'})"
   ]
  },
  {
   "cell_type": "code",
   "execution_count": 129,
   "metadata": {},
   "outputs": [
    {
     "data": {
      "text/html": [
       "<div>\n",
       "<style scoped>\n",
       "    .dataframe tbody tr th:only-of-type {\n",
       "        vertical-align: middle;\n",
       "    }\n",
       "\n",
       "    .dataframe tbody tr th {\n",
       "        vertical-align: top;\n",
       "    }\n",
       "\n",
       "    .dataframe thead th {\n",
       "        text-align: right;\n",
       "    }\n",
       "</style>\n",
       "<table border=\"1\" class=\"dataframe\">\n",
       "  <thead>\n",
       "    <tr style=\"text-align: right;\">\n",
       "      <th></th>\n",
       "      <th>年次</th>\n",
       "      <th>検挙件数（猟銃）</th>\n",
       "      <th>検挙人員（猟銃）</th>\n",
       "    </tr>\n",
       "  </thead>\n",
       "  <tbody>\n",
       "    <tr>\n",
       "      <th>0</th>\n",
       "      <td>2017/12/31</td>\n",
       "      <td>23</td>\n",
       "      <td>18</td>\n",
       "    </tr>\n",
       "    <tr>\n",
       "      <th>1</th>\n",
       "      <td>2018/12/31</td>\n",
       "      <td>22</td>\n",
       "      <td>28</td>\n",
       "    </tr>\n",
       "    <tr>\n",
       "      <th>2</th>\n",
       "      <td>2019/12/31</td>\n",
       "      <td>19</td>\n",
       "      <td>20</td>\n",
       "    </tr>\n",
       "    <tr>\n",
       "      <th>3</th>\n",
       "      <td>2020/12/31</td>\n",
       "      <td>14</td>\n",
       "      <td>15</td>\n",
       "    </tr>\n",
       "    <tr>\n",
       "      <th>4</th>\n",
       "      <td>2021/12/31</td>\n",
       "      <td>16</td>\n",
       "      <td>16</td>\n",
       "    </tr>\n",
       "  </tbody>\n",
       "</table>\n",
       "</div>"
      ],
      "text/plain": [
       "           年次  検挙件数（猟銃）  検挙人員（猟銃）\n",
       "0  2017/12/31        23        18\n",
       "1  2018/12/31        22        28\n",
       "2  2019/12/31        19        20\n",
       "3  2020/12/31        14        15\n",
       "4  2021/12/31        16        16"
      ]
     },
     "execution_count": 129,
     "metadata": {},
     "output_type": "execute_result"
    }
   ],
   "source": [
    "df_animal = df_animal.drop(columns='押収物件数（件）')\n",
    "df_animal"
   ]
  },
  {
   "cell_type": "markdown",
   "metadata": {},
   "source": [
    "# アメリカの暴力犯罪データ"
   ]
  },
  {
   "cell_type": "code",
   "execution_count": 130,
   "metadata": {},
   "outputs": [
    {
     "data": {
      "text/plain": [
       "Index(['id', 'offender_age_number_0_9', 'offender_age_number_10_19',\n",
       "       'offender_age_number_20_29', 'offender_age_number_30_39',\n",
       "       'offender_age_number_40_49', 'offender_age_number_50_59',\n",
       "       'offender_age_number_60_69', 'offender_age_number_70_79',\n",
       "       'offender_age_number_80_89', 'offender_age_90_older', 'unknown',\n",
       "       'offender_sum_total', 'victim_age_number_10_19',\n",
       "       'victim_age_number_20_29', 'victim_age_number_30_39',\n",
       "       'victim_age_number_40_49', 'victim_age_number_50_59',\n",
       "       'victim_sum_total', 'personal_weapons', 'handgun',\n",
       "       'knife_cutting_instrument', 'firearm', 'none',\n",
       "       'type_of_weapons_sum_total'],\n",
       "      dtype='object')"
      ]
     },
     "execution_count": 130,
     "metadata": {},
     "output_type": "execute_result"
    }
   ],
   "source": [
    "df_america.columns"
   ]
  },
  {
   "cell_type": "markdown",
   "metadata": {},
   "source": [
    "### 加害者"
   ]
  },
  {
   "cell_type": "code",
   "execution_count": 131,
   "metadata": {},
   "outputs": [
    {
     "data": {
      "image/png": "[encoded data removed]",
      "text/plain": [
       "<Figure size 1000x600 with 1 Axes>"
      ]
     },
     "metadata": {},
     "output_type": "display_data"
    }
   ],
   "source": [
    "offender_age_groups = df_america[['offender_age_number_0_9', 'offender_age_number_20_29', 'offender_age_number_30_39', 'offender_age_number_40_49', 'offender_age_number_50_59', 'offender_age_number_60_69', 'offender_age_number_70_79', 'offender_age_number_80_89','offender_age_90_older' ]].iloc[0]\n",
    "\n",
    "# 可視化\n",
    "plt.figure(figsize=(10, 6))\n",
    "offender_age_groups.plot(kind='bar')\n",
    "plt.title('加害者年代別グラフ')\n",
    "plt.ylabel('加害者の数')\n",
    "plt.xticks(range(len(offender_age_groups)), ['10代', '20代', '30代', '40代', '50代', '60代', '70代', '80代', '90代以上'], rotation=45)\n",
    "plt.show()\n"
   ]
  },
  {
   "cell_type": "code",
   "execution_count": 132,
   "metadata": {},
   "outputs": [
    {
     "data": {
      "text/plain": [
       "offender_age_number_0_9        2110\n",
       "offender_age_number_20_29    232451\n",
       "offender_age_number_30_39    194835\n",
       "offender_age_number_40_49    101386\n",
       "offender_age_number_50_59     60138\n",
       "offender_age_number_60_69     21569\n",
       "offender_age_number_70_79      4883\n",
       "offender_age_number_80_89      1095\n",
       "offender_age_90_older           741\n",
       "Name: 0, dtype: int64"
      ]
     },
     "execution_count": 132,
     "metadata": {},
     "output_type": "execute_result"
    }
   ],
   "source": [
    "offender_age_groups"
   ]
  },
  {
   "cell_type": "code",
   "execution_count": 134,
   "metadata": {},
   "outputs": [
    {
     "data": {
      "image/png": "[encoded data removed]",
      "text/plain": [
       "<Figure size 1000x800 with 1 Axes>"
      ]
     },
     "metadata": {},
     "output_type": "display_data"
    }
   ],
   "source": [
    "# 60代以上のデータを合計\n",
    "df_america['offender_age_number_60_older'] = df_america['offender_age_number_60_69'] + df_america['offender_age_number_70_79'] + df_america['offender_age_number_80_89'] + df_america['offender_age_90_older']\n",
    "\n",
    "# 必要ない列を削除\n",
    "df_america.drop(['offender_age_number_60_69', 'offender_age_number_70_79', 'offender_age_number_80_89', 'offender_age_90_older'], axis=1, inplace=True)\n",
    "# 新しいデータフレーム作成\n",
    "age_groups = df_america[['offender_age_number_0_9', 'offender_age_number_20_29', 'offender_age_number_30_39', 'offender_age_number_40_49', 'offender_age_number_50_59', 'offender_age_number_60_older']].iloc[0]\n",
    "\n",
    "plt.figure(figsize=(10, 8))\n",
    "plt.pie(age_groups, labels=['10代', '20代', '30代', '40代', '50代', '60代以上'], autopct='%1.1f%%', startangle=140)\n",
    "plt.title('加害者年代別割合')\n",
    "plt.show()"
   ]
  },
  {
   "cell_type": "code",
   "execution_count": null,
   "metadata": {},
   "outputs": [],
   "source": []
  }
 ],
 "metadata": {
  "kernelspec": {
   "display_name": "Python 3",
   "language": "python",
   "name": "python3"
  },
  "language_info": {
   "codemirror_mode": {
    "name": "ipython",
    "version": 3
   },
   "file_extension": ".py",
   "mimetype": "text/x-python",
   "name": "python",
   "nbconvert_exporter": "python",
   "pygments_lexer": "ipython3",
   "version": "3.11.7"
  }
 },
 "nbformat": 4,
 "nbformat_minor": 2
}
